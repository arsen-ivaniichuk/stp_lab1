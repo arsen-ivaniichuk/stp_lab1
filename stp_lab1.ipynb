{
 "cells": [
  {
   "cell_type": "markdown",
   "id": "104f5f0d",
   "metadata": {},
   "source": [
    "# Сучасні технології програмування. ЛР1\n",
    "### Іванійчук А., КА-22мп"
   ]
  },
  {
   "cell_type": "markdown",
   "id": "3243114d",
   "metadata": {},
   "source": [
    "## Технічні моменти"
   ]
  },
  {
   "cell_type": "code",
   "execution_count": 1,
   "id": "75b53d03",
   "metadata": {},
   "outputs": [],
   "source": [
    "import sys\n",
    "import time\n",
    "from datetime import datetime\n",
    "import hashlib\n",
    "import logging\n",
    "import json"
   ]
  },
  {
   "cell_type": "code",
   "execution_count": 2,
   "id": "83a6e2bb",
   "metadata": {},
   "outputs": [],
   "source": [
    "logging.basicConfig(\n",
    "    level=logging.INFO,\n",
    "    format=\"%(levelname)s|%(lineno)s| %(asctime)s - %(message)s\",\n",
    "    datefmt=\"%Y-%m-%d %H:%M:%S\",\n",
    "    stream=sys.stdout\n",
    ")\n",
    "logging = logging.getLogger(__name__)"
   ]
  },
  {
   "cell_type": "code",
   "execution_count": 12,
   "id": "1e312397",
   "metadata": {},
   "outputs": [
    {
     "data": {
      "text/html": [
       "\n",
       "<style>\n",
       "div.output_stderr {\n",
       "    background: #C4FFC0;\n",
       "}\n",
       "</style>\n"
      ],
      "text/plain": [
       "<IPython.core.display.HTML object>"
      ]
     },
     "execution_count": 12,
     "metadata": {},
     "output_type": "execute_result"
    }
   ],
   "source": [
    "from IPython.core.display import HTML\n",
    "HTML(\"\"\"\n",
    "<style>\n",
    "div.output_stderr {\n",
    "    background: #C4FFC0;\n",
    "}\n",
    "</style>\n",
    "\"\"\")"
   ]
  },
  {
   "cell_type": "markdown",
   "id": "c92284fa",
   "metadata": {},
   "source": [
    "## Реалізація основних класів"
   ]
  },
  {
   "cell_type": "code",
   "execution_count": 4,
   "id": "7ef3a634",
   "metadata": {},
   "outputs": [],
   "source": [
    "class BlockHeader:\n",
    "    def __init__(\n",
    "        self, \n",
    "        prevBlockHash: str, \n",
    "        txs: str, \n",
    "        bits: str = \"ffff001f\",  \n",
    "        nonce: int = 0,\n",
    "        version: int = 1,\n",
    "        timestamp: int = int(time.time())\n",
    "    ):\n",
    "        self.version = version\n",
    "        self.prevBlockHash = prevBlockHash\n",
    "        self.merkleRoot = self.__gen_merkle_root(txs)\n",
    "        self.timestamp = timestamp\n",
    "        self.bits = bits\n",
    "        self.nonce = nonce\n",
    "        self.blockHash = None\n",
    "    \n",
    "    @staticmethod\n",
    "    def __sha256_encode(text: str, rounds: int = 2):\n",
    "        \"\"\"\n",
    "        Perform SHA256 encryption\n",
    "        \"\"\"\n",
    "        res = text[0] if isinstance(text, tuple) else text\n",
    "        for _ in range(rounds):\n",
    "            res = hashlib.sha256(res.encode(\"UTF-8\")).hexdigest()\n",
    "            \n",
    "        return res\n",
    "    \n",
    "    def __gen_merkle_root(self, txs: str):\n",
    "        \"\"\"\n",
    "        This is techical function which generates some kind \n",
    "        of imitation of the real merkle root\n",
    "        \"\"\"\n",
    "        return self.__sha256_encode(txs, rounds=1)\n",
    "    \n",
    "    def mine(self):\n",
    "        \"\"\"\n",
    "        Perform block mining\n",
    "        \"\"\"\n",
    "        val = \"\".join([\n",
    "            str(self.version),\n",
    "            self.prevBlockHash,\n",
    "            self.merkleRoot,\n",
    "            str(self.timestamp)\n",
    "        ])\n",
    "        while True:\n",
    "            attempt = self.__sha256_encode(\"\".join([val, self.bits,\n",
    "                                                    str(self.nonce)]))            \n",
    "            if attempt[:4] == \"0000\":\n",
    "                self.blockHash = attempt\n",
    "                break\n",
    "            self.nonce += 1\n",
    "    \n",
    "    def info(self):\n",
    "        \"\"\"\n",
    "        Return info about block header\n",
    "        \"\"\"\n",
    "        return {\n",
    "            \"version\": self.version,\n",
    "            \"prevBlockHash\": self.prevBlockHash,\n",
    "            \"merkleRoot\": self.merkleRoot,\n",
    "            \"timestamp\": self.timestamp,\n",
    "            \"bits\": self.bits,\n",
    "            \"nonce\": self.nonce,\n",
    "            \"blockHash\": self.blockHash,\n",
    "        }"
   ]
  },
  {
   "cell_type": "code",
   "execution_count": 5,
   "id": "9792f8d2",
   "metadata": {},
   "outputs": [],
   "source": [
    "class Block:\n",
    "    def __init__(\n",
    "        self,\n",
    "        height: int = 0,\n",
    "        prevBlockHash: str = \"0\" * 64,\n",
    "    ):\n",
    "        self.height: int = height\n",
    "        self.blockSize: int = 1,\n",
    "        self.txs: str = f\"<user1> sent {height} coins to <user2>\",\n",
    "        self.blockHeader: BlockHeader = self.__get_block_header(\n",
    "            prevBlockHash, self.txs),\n",
    "        self.txCount: int = 1,\n",
    "    \n",
    "    def __get_block_header(self, prevBlockHash, txs):\n",
    "        \"\"\"\n",
    "        This method creates header for block object, which includes \n",
    "        block hash, so it actually runs mining proccess\n",
    "        \"\"\"\n",
    "        logging.log(20, \"mining...\")\n",
    "        header = BlockHeader(prevBlockHash, txs)\n",
    "        header.mine()\n",
    "        logging.log(20, \"success\")\n",
    "        return header\n",
    "        \n",
    "    def info(self):\n",
    "        \"\"\"\n",
    "        Return info about block\n",
    "        \"\"\"\n",
    "        return {\n",
    "            \"height\": self.height,\n",
    "            \"blockSize\": self.blockSize[0] if isinstance(\n",
    "                self.blockSize, tuple) else self.blockSize,\n",
    "            \"blockHeader\": self.blockHeader[0].info() if isinstance(\n",
    "                self.blockHeader, tuple) else self.blockHeader.info(),\n",
    "            \"txCount\": self.txCount[0] if isinstance(self.txCount, tuple) \n",
    "            else self.txCount,\n",
    "            \"txs\": self.txs[0] if isinstance(self.txs, tuple) else self.txs\n",
    "        }    "
   ]
  },
  {
   "cell_type": "code",
   "execution_count": 10,
   "id": "bfaf7011",
   "metadata": {},
   "outputs": [],
   "source": [
    "class Blockchain:\n",
    "    def __init__(self):\n",
    "        self.chain = []\n",
    "    \n",
    "    def start_chain(self):\n",
    "        \"\"\"\n",
    "        This function actually inits the blockchain \n",
    "        by appending genesis block to it\n",
    "        \"\"\"\n",
    "        logging.log(20, \"starting blockchain...\")\n",
    "        self.chain.append(Block())\n",
    "        logging.log(20, \"genesis block generated successfully\")\n",
    "    \n",
    "    def __get_previous_block(self):\n",
    "        \"\"\"\n",
    "        Get the last block from the chain to generate the new one \n",
    "        \"\"\"\n",
    "        return self.chain[-1]\n",
    "    \n",
    "    def new_block(self):\n",
    "        \"\"\"\n",
    "        Add new block to the blockchain\n",
    "        \"\"\"\n",
    "        logging.log(20, \"adding new block...\")\n",
    "        block_height = len(self.chain)\n",
    "        prev_block_header = self.__get_previous_block().blockHeader\n",
    "        prev_block_header = prev_block_header[0] if isinstance(\n",
    "            prev_block_header, tuple) else prev_block_header\n",
    "        new_block = Block(block_height, prev_block_header.blockHash)\n",
    "        self.chain.append(new_block)\n",
    "        logging.log(20, f\"new block added successfully; \\\n",
    "                    chain lenght: {len(self.chain)}\")\n",
    "        \n",
    "    def info(self):\n",
    "        \"\"\"\n",
    "        Return info about the blockchain\n",
    "        \"\"\"\n",
    "        return json.dumps([block.info() for block in self.chain], indent=2)"
   ]
  },
  {
   "cell_type": "markdown",
   "id": "a5c44d2a",
   "metadata": {},
   "source": [
    "## Тестовий приклад"
   ]
  },
  {
   "cell_type": "code",
   "execution_count": 11,
   "id": "e6408f07",
   "metadata": {},
   "outputs": [
    {
     "name": "stdout",
     "output_type": "stream",
     "text": [
      "INFO|10| 2023-01-20 05:25:23 - starting blockchain...\n",
      "INFO|19| 2023-01-20 05:25:23 - mining...\n",
      "INFO|22| 2023-01-20 05:25:24 - success\n",
      "INFO|12| 2023-01-20 05:25:24 - genesis block generated successfully\n",
      "INFO|24| 2023-01-20 05:25:24 - adding new block...\n",
      "INFO|19| 2023-01-20 05:25:24 - mining...\n",
      "INFO|22| 2023-01-20 05:25:24 - success\n",
      "INFO|31| 2023-01-20 05:25:24 - new block added successfully; chain lenght: 2\n",
      "[\n",
      "  {\n",
      "    \"height\": 0,\n",
      "    \"blockSize\": 1,\n",
      "    \"blockHeader\": {\n",
      "      \"version\": 1,\n",
      "      \"prevBlockHash\": \"0000000000000000000000000000000000000000000000000000000000000000\",\n",
      "      \"merkleRoot\": \"6b1d11354810742557e1503f7bf8199c9d24080dfbd9c841e1082d6b0ec5e9b1\",\n",
      "      \"timestamp\": 1674185085,\n",
      "      \"bits\": \"ffff001f\",\n",
      "      \"nonce\": 75436,\n",
      "      \"blockHash\": \"0000b5182e9a9ac11cb79ce56e65cbcf6630efddb5be57faa1d3e899f92948a7\"\n",
      "    },\n",
      "    \"txCount\": 1,\n",
      "    \"txs\": \"<user1> sent 0 coins to <user2>\"\n",
      "  },\n",
      "  {\n",
      "    \"height\": 1,\n",
      "    \"blockSize\": 1,\n",
      "    \"blockHeader\": {\n",
      "      \"version\": 1,\n",
      "      \"prevBlockHash\": \"0000b5182e9a9ac11cb79ce56e65cbcf6630efddb5be57faa1d3e899f92948a7\",\n",
      "      \"merkleRoot\": \"13fd014cf5e5d9778b3ed40c7f110ab877ecbfabddf4784da5041fd6e2036b45\",\n",
      "      \"timestamp\": 1674185085,\n",
      "      \"bits\": \"ffff001f\",\n",
      "      \"nonce\": 156079,\n",
      "      \"blockHash\": \"0000c90c703e1c1c553d4dd435ca7b79b6474f2a3300e8c0a69a8b0d69b4add2\"\n",
      "    },\n",
      "    \"txCount\": 1,\n",
      "    \"txs\": \"<user1> sent 1 coins to <user2>\"\n",
      "  }\n",
      "]\n"
     ]
    }
   ],
   "source": [
    "chain = Blockchain()\n",
    "chain.start_chain()\n",
    "chain.new_block()\n",
    "print(chain.info())"
   ]
  },
  {
   "cell_type": "code",
   "execution_count": null,
   "id": "3eb1b6bc",
   "metadata": {},
   "outputs": [],
   "source": []
  }
 ],
 "metadata": {
  "kernelspec": {
   "display_name": "Python 3 (ipykernel)",
   "language": "python",
   "name": "python3"
  },
  "language_info": {
   "codemirror_mode": {
    "name": "ipython",
    "version": 3
   },
   "file_extension": ".py",
   "mimetype": "text/x-python",
   "name": "python",
   "nbconvert_exporter": "python",
   "pygments_lexer": "ipython3",
   "version": "3.9.6"
  }
 },
 "nbformat": 4,
 "nbformat_minor": 5
}
